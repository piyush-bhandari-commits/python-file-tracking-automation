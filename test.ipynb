{
 "metadata": {
  "language_info": {
   "codemirror_mode": {
    "name": "ipython",
    "version": 3
   },
   "file_extension": ".py",
   "mimetype": "text/x-python",
   "name": "python",
   "nbconvert_exporter": "python",
   "pygments_lexer": "ipython3",
   "version": "3.7.6-final"
  },
  "orig_nbformat": 2,
  "kernelspec": {
   "name": "python3",
   "display_name": "Python 3",
   "language": "python"
  }
 },
 "nbformat": 4,
 "nbformat_minor": 2,
 "cells": [
  {
   "cell_type": "code",
   "execution_count": 2,
   "metadata": {},
   "outputs": [
    {
     "output_type": "stream",
     "name": "stdout",
     "text": [
      "Hi!\nHello, my name is Nikhil\n"
     ]
    }
   ],
   "source": [
    "class Person:   \n",
    "      \n",
    "    # init method or constructor    \n",
    "    def __init__(self, name):   \n",
    "        self.name = name\n",
    "        print(\"Hi!\")   \n",
    "      \n",
    "    # Sample Method    \n",
    "    def say_hi(self):   \n",
    "        print('Hello, my name is', self.name)   \n",
    "      \n",
    "p = Person('Nikhil')   \n",
    "p.say_hi()   \n"
   ]
  },
  {
   "cell_type": "code",
   "execution_count": null,
   "metadata": {},
   "outputs": [],
   "source": []
  }
 ]
}